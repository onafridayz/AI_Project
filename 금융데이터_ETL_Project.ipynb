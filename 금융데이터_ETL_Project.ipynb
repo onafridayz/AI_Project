{
  "nbformat": 4,
  "nbformat_minor": 0,
  "metadata": {
    "colab": {
      "provenance": []
    },
    "kernelspec": {
      "name": "python3",
      "display_name": "Python 3"
    },
    "language_info": {
      "name": "python"
    }
  },
  "cells": [
    {
      "cell_type": "code",
      "source": [
        "# !pip install pymysql\n",
        "# !pip show sqlalchemy"
      ],
      "metadata": {
        "colab": {
          "base_uri": "https://localhost:8080/"
        },
        "id": "e7qyyJ-u2cZi",
        "outputId": "e25aaba6-128e-4c6e-e094-df33f55a0f9a"
      },
      "execution_count": null,
      "outputs": [
        {
          "output_type": "stream",
          "name": "stdout",
          "text": [
            "Collecting pymysql\n",
            "  Downloading PyMySQL-1.1.1-py3-none-any.whl.metadata (4.4 kB)\n",
            "Downloading PyMySQL-1.1.1-py3-none-any.whl (44 kB)\n",
            "\u001b[?25l   \u001b[90m━━━━━━━━━━━━━━━━━━━━━━━━━━━━━━━━━━━━━━━━\u001b[0m \u001b[32m0.0/45.0 kB\u001b[0m \u001b[31m?\u001b[0m eta \u001b[36m-:--:--\u001b[0m\r\u001b[2K   \u001b[90m━━━━━━━━━━━━━━━━━━━━━━━━━━━━━━━━━━━━━━━━\u001b[0m \u001b[32m45.0/45.0 kB\u001b[0m \u001b[31m2.6 MB/s\u001b[0m eta \u001b[36m0:00:00\u001b[0m\n",
            "\u001b[?25hInstalling collected packages: pymysql\n",
            "Successfully installed pymysql-1.1.1\n",
            "Name: SQLAlchemy\n",
            "Version: 2.0.40\n",
            "Summary: Database Abstraction Library\n",
            "Home-page: https://www.sqlalchemy.org\n",
            "Author: Mike Bayer\n",
            "Author-email: mike_mp@zzzcomputing.com\n",
            "License: MIT\n",
            "Location: /usr/local/lib/python3.11/dist-packages\n",
            "Requires: greenlet, typing-extensions\n",
            "Required-by: ipython-sql, langchain\n"
          ]
        }
      ]
    },
    {
      "cell_type": "code",
      "source": [
        "import pandas as pd\n",
        "from sqlalchemy import create_engine"
      ],
      "metadata": {
        "id": "Kr9jaVdtxGQV"
      },
      "execution_count": null,
      "outputs": []
    },
    {
      "cell_type": "code",
      "source": [
        "### 데이터베이스 접속정보\n",
        "user = \"\"\n",
        "password = \"\"\n",
        "dbip = \"\"\n",
        "dbport = \"\"\n",
        "database = \"project2025\"\n",
        "dbConPath = f\"mysql+pymysql://{user}:{password}@{dbip}:{dbport}/{database}\"\n",
        "dbConPath\n",
        "myengine = create_engine(dbConPath)"
      ],
      "metadata": {
        "id": "h5c6FLs369DB"
      },
      "execution_count": null,
      "outputs": []
    },
    {
      "cell_type": "code",
      "source": [
        "# prompt: 구글드라이브 연동\n",
        "\n",
        "# from google.colab import drive\n",
        "# drive.mount('/content/gdrive')"
      ],
      "metadata": {
        "colab": {
          "base_uri": "https://localhost:8080/"
        },
        "id": "f0QIM4aZJbJU",
        "outputId": "333ba19d-bed4-480e-ec54-1e8a16880945"
      },
      "execution_count": null,
      "outputs": [
        {
          "output_type": "stream",
          "name": "stdout",
          "text": [
            "Mounted at /content/gdrive\n"
          ]
        }
      ]
    },
    {
      "cell_type": "code",
      "source": [
        "# %cd /content/gdrive/MyDrive/Colab Notebooks/data_analysis_2025/과제"
      ],
      "metadata": {
        "colab": {
          "base_uri": "https://localhost:8080/"
        },
        "id": "PoXllQZ1JbG5",
        "outputId": "d7716793-a922-4eca-9e20-cb8b467903ff"
      },
      "execution_count": null,
      "outputs": [
        {
          "output_type": "stream",
          "name": "stdout",
          "text": [
            "/content/gdrive/MyDrive/Colab Notebooks/data_analysis_2025/과제\n"
          ]
        }
      ]
    },
    {
      "cell_type": "code",
      "source": [
        "# csv 정보 mysql에 입력\n",
        "\n",
        "accountInfo = pd.read_csv(\"/home/ubuntu/pywork/dataset/account_info.csv\")\n",
        "\n",
        "try:\n",
        "    tableName = \"account_info\"\n",
        "    accountInfo.to_sql(name = tableName, con=myengine, index=False, if_exists=\"replace\")\n",
        "    accDf = pd.read_sql_query( sql = f\"SELECT * FROM {tableName}\", con = myengine )\n",
        "except Exception as e:\n",
        "    print(e)\n",
        "\n",
        "customerInfo = pd.read_csv(\"/home/ubuntu/pywork/dataset/customer_info.csv\")\n",
        "try:\n",
        "    tableName = \"customer_info\"\n",
        "    customerInfo.to_sql(name = tableName, con=myengine, index=False, if_exists=\"replace\")\n",
        "    custDf = pd.read_sql_query( sql = f\"SELECT * FROM {tableName}\", con = myengine )\n",
        "except Exception as e:\n",
        "    print(e)\n",
        "\n",
        "loanInfo = pd.read_csv(\"/home/ubuntu/pywork/dataset/loan_info.csv\")\n",
        "try:\n",
        "    tableName = \"loan_info\"\n",
        "    loanInfo.to_sql(name = tableName, con=myengine, index=False, if_exists=\"replace\")\n",
        "    #loanDf = pd.read_sql_query( sql = f\"SELECT * FROM {tableName}\", con = myengine )\n",
        "    loanDf = pd.read_sql_query( sql = \"SELECT customer_id, SUM(loan_amount) AS total_loan_amount FROM loan_info GROUP BY customer_id\", con = myengine )\n",
        "\n",
        "except Exception as e:\n",
        "    print(e)\n",
        "\n",
        "transactionInfo = pd.read_csv(\"/home/ubuntu/pywork/dataset/transaction_info.csv\")\n",
        "try:\n",
        "\n",
        "    tableName = \"transaction_info\"\n",
        "    transactionInfo.to_sql(name = tableName, con=myengine, index=False, if_exists=\"replace\")\n",
        "    transDf = pd.read_sql_query( sql = \"SELECT account_id, SUM(amount) AS total_transaction_amount, Max(transaction_date) AS recent_transaction_date FROM transaction_info GROUP BY account_id\", con = myengine )\n",
        "\n",
        "\n",
        "except Exception as e:\n",
        "    print(e)"
      ],
      "metadata": {
        "id": "ysy74sd5JbEU",
        "colab": {
          "base_uri": "https://localhost:8080/"
        },
        "outputId": "c4a75bc5-3b21-4405-cc61-c52ffbfc7cdb"
      },
      "execution_count": null,
      "outputs": [
        {
          "output_type": "stream",
          "name": "stdout",
          "text": [
            "(pymysql.err.OperationalError) (3730, \"Cannot drop table 'customer_info' referenced by a foreign key constraint 'customer_finance_summary_ibfk_1' on table 'customer_finance_summary'.\")\n",
            "[SQL: \n",
            "DROP TABLE customer_info]\n",
            "(Background on this error at: https://sqlalche.me/e/20/e3q8)\n"
          ]
        }
      ]
    },
    {
      "cell_type": "code",
      "source": [
        "# # 데이터 불러와서 DF에 담기\n",
        "# accDf =  pd.read_sql_query( sql = \"select * from account_info\", con = myengine )\n",
        "# custDf = pd.read_sql_query( sql = \"select * from customer_info\", con = myengine )\n",
        "\n",
        "# #customerId별 loan 합계\n",
        "# loanDf = pd.read_sql_query( sql = \"SELECT customer_id, SUM(loan_amount) AS total_loan_amount FROM loan_info GROUP BY customer_id\", con = myengine )\n",
        "\n",
        "# #customerId별 transaction 합계\n",
        "# transDf = pd.read_sql_query( sql = \"SELECT account_id, SUM(amount) AS total_transaction_amount, Max(transaction_date) AS recent_transaction_date FROM transaction_info GROUP BY account_id\", con = myengine )\n"
      ],
      "metadata": {
        "id": "TepR1AZZSh-y"
      },
      "execution_count": null,
      "outputs": []
    },
    {
      "cell_type": "code",
      "source": [
        "# accDf.head(2)"
      ],
      "metadata": {
        "id": "vqNqWMUShC6V"
      },
      "execution_count": null,
      "outputs": []
    },
    {
      "cell_type": "code",
      "source": [
        "#custDf.head(2)"
      ],
      "metadata": {
        "id": "WVSeDaKzhM4b"
      },
      "execution_count": null,
      "outputs": []
    },
    {
      "cell_type": "code",
      "source": [
        "#loanDf.head(2)"
      ],
      "metadata": {
        "id": "Ec23QQZ-hOuO"
      },
      "execution_count": null,
      "outputs": []
    },
    {
      "cell_type": "code",
      "source": [
        "#transDf.head(2)"
      ],
      "metadata": {
        "id": "tGlehxw8hQmO"
      },
      "execution_count": null,
      "outputs": []
    },
    {
      "cell_type": "code",
      "source": [
        "\n",
        "joinKey = [\"customer_id\"]\n",
        "joinData = pd.merge( left=accDf,\n",
        "                     right=custDf,\n",
        "                     on=joinKey,\n",
        "                     how=\"inner\")\n",
        "#joinData.head(2)\n"
      ],
      "metadata": {
        "id": "TEtAIoAxNXJ-"
      },
      "execution_count": null,
      "outputs": []
    },
    {
      "cell_type": "code",
      "source": [
        "joinKey = [\"customer_id\"]\n",
        "joinData2 = pd.merge( left=joinData,\n",
        "                     right=loanDf,\n",
        "                     on=joinKey,\n",
        "                     how=\"inner\")\n",
        "#joinData2.head(2)\n"
      ],
      "metadata": {
        "id": "qQjFw_QJPkR4"
      },
      "execution_count": null,
      "outputs": []
    },
    {
      "cell_type": "code",
      "source": [
        "joinKey2 = [\"account_id\"]\n",
        "mergedData = pd.merge( left=joinData2,\n",
        "                     right=transDf,\n",
        "                     on=joinKey2,\n",
        "                     how=\"inner\")\n",
        "#mergedData.head(2)"
      ],
      "metadata": {
        "id": "8ko9Rp3qPwbw"
      },
      "execution_count": null,
      "outputs": []
    },
    {
      "cell_type": "code",
      "source": [
        "#데이터 보정 transaction_date 월표기(010,011,012)\n",
        "mergedData['recent_transaction_date'] = mergedData['recent_transaction_date'].astype(str)\n",
        "mergedData['recent_transaction_date'] = mergedData['recent_transaction_date'].str.replace('010', '10')\n",
        "mergedData['recent_transaction_date'] = mergedData['recent_transaction_date'].str.replace('011', '11')\n",
        "mergedData['recent_transaction_date'] = mergedData['recent_transaction_date'].str.replace('012', '12')\n",
        "#mergedData.head(3)"
      ],
      "metadata": {
        "id": "EGUZVuGuRiEn"
      },
      "execution_count": null,
      "outputs": []
    },
    {
      "cell_type": "code",
      "source": [
        "from datetime import datetime\n",
        "from zoneinfo import ZoneInfo\n",
        "\n",
        "#dt_korea = datetime.now(ZoneInfo(\"Asia/Seoul\"))\n",
        "dt_korea = datetime.now()\n",
        "time_tag = dt_korea.strftime('%Y-%m-%d %H:%M:%S')\n",
        "time_tag"
      ],
      "metadata": {
        "colab": {
          "base_uri": "https://localhost:8080/",
          "height": 35
        },
        "id": "3D-vTfI9UWNu",
        "outputId": "e8528360-aac8-4b37-d015-706cfa3de14f"
      },
      "execution_count": null,
      "outputs": [
        {
          "output_type": "execute_result",
          "data": {
            "text/plain": [
              "'2025-05-07 14:23:28'"
            ],
            "application/vnd.google.colaboratory.intrinsic+json": {
              "type": "string"
            }
          },
          "metadata": {},
          "execution_count": 259
        }
      ]
    },
    {
      "cell_type": "code",
      "source": [
        "dataColumns = [\"customer_id\",\"name\",\"balance\",\"recent_transaction_date\", \"total_transaction_amount\", \"total_loan_amount\"]\n",
        "finalDf = mergedData[dataColumns].copy()\n",
        "finalDf[\"time_tag\"] = time_tag\n",
        "finalDf = finalDf[[\"time_tag\",\"customer_id\",\"name\",\"balance\",\"recent_transaction_date\", \"total_transaction_amount\", \"total_loan_amount\" ]]\n",
        "finalDf = finalDf.rename(columns={ \"balance\": \"total_balance\" })\n",
        "#finalDf"
      ],
      "metadata": {
        "id": "MTls4hn7U50F"
      },
      "execution_count": null,
      "outputs": []
    },
    {
      "cell_type": "code",
      "source": [
        "try:\n",
        "    tableName = \"customer_finance_summary\"\n",
        "    finalDf.to_sql(name = tableName, con=myengine, index=False, if_exists=\"append\")\n",
        "    print(\"DB저장 완료\")\n",
        "except Exception as e:\n",
        "    print(e)"
      ],
      "metadata": {
        "id": "Qvj-D3NyScs8",
        "colab": {
          "base_uri": "https://localhost:8080/"
        },
        "outputId": "c085f241-1693-44e9-f41a-d5de8f4fc779"
      },
      "execution_count": null,
      "outputs": [
        {
          "output_type": "stream",
          "name": "stdout",
          "text": [
            "DB저장 완료\n"
          ]
        }
      ]
    },
    {
      "cell_type": "code",
      "source": [
        "# 검증 : customer_id 수 확인\n",
        "\n",
        "cntsql = \"\"\" SELECT count(customer_id) as cnt\n",
        "FROM customer_info\"\"\"\n",
        "\n",
        "cntTargetsql = \"\"\"SELECT count(distinct(customer_id)) as target_cnt\n",
        "FROM customer_finance_summary\"\"\"\n",
        "\n",
        "\n",
        "try:\n",
        "    cntData = pd.read_sql_query( sql = cntsql, con = myengine )\n",
        "    cntTargetData = pd.read_sql_query( sql = cntTargetsql, con = myengine )\n",
        "    cntOriginValue = cntData['cnt'].iloc[0]\n",
        "    cntTargetValue = cntTargetData['target_cnt'].iloc[0]\n",
        "\n",
        "    if cntOriginValue == cntTargetValue:\n",
        "        print(\"고객별 데이터 수 매칭 확인\")\n",
        "    else:\n",
        "         print(\"고객별 데이터 수 매칭 에러\")\n",
        "except Exception as e:\n",
        "    print(e)\n"
      ],
      "metadata": {
        "colab": {
          "base_uri": "https://localhost:8080/"
        },
        "id": "ZZTRVf0Hq5iK",
        "outputId": "07127b40-c179-4d22-d847-7d1148094078"
      },
      "execution_count": null,
      "outputs": [
        {
          "output_type": "stream",
          "name": "stdout",
          "text": [
            "고객별 데이터 수 매칭 확인\n"
          ]
        }
      ]
    },
    {
      "cell_type": "code",
      "source": [
        "# 검증 : 중복 확인\n",
        "\n",
        "dupsql = \"\"\"SELECT\n",
        "    time_tag,\n",
        "    customer_id,\n",
        "    COUNT(*) AS cnt\n",
        "FROM customer_finance_summary\n",
        "GROUP BY time_tag, customer_id\n",
        "HAVING COUNT(*) > 1\"\"\"\n",
        "\n",
        "try:\n",
        "    checkData = pd.read_sql_query( sql = dupsql, con = myengine )\n",
        "except Exception as e:\n",
        "    print(e)\n",
        "\n",
        "if len(checkData) > 0 :\n",
        "    print(\"중복\")\n",
        "else:\n",
        "    print(\"중복없음\")\n"
      ],
      "metadata": {
        "colab": {
          "base_uri": "https://localhost:8080/"
        },
        "id": "CMvP9WtHToW5",
        "outputId": "7717df8d-07d7-4acf-ab70-12e8413ddc5f"
      },
      "execution_count": null,
      "outputs": [
        {
          "output_type": "stream",
          "name": "stdout",
          "text": [
            "중복없음\n"
          ]
        }
      ]
    },
    {
      "cell_type": "code",
      "source": [
        "# 검증 : Null 확인\n",
        "\n",
        "# nullsql = \"\"\"SELECT *\n",
        "# FROM customer_finance_summary\n",
        "# WHERE time_tag IS NULL\n",
        "# AND   customer_id IS NULL\n",
        "# AND   name IS NULL\n",
        "# AND   total_balance IS NULL\n",
        "# AND   recent_transaction_date IS NULL\n",
        "# AND   total_transaction_amount IS NULL\"\"\"\n",
        "\n",
        "# try:\n",
        "#     nullData = pd.read_sql_query( sql = nullsql, con = myengine )\n",
        "#     print(len(nullData))\n",
        "# except Exception as e:\n",
        "#     print(e)\n",
        "\n",
        "# if len(nullData) > 0 :\n",
        "#     print(\"Not Null 문제 발생\")\n",
        "# else:\n",
        "#     print(\"Not Null 없음\")\n",
        "\n"
      ],
      "metadata": {
        "id": "aeO2t1LQyTVV"
      },
      "execution_count": null,
      "outputs": []
    },
    {
      "cell_type": "code",
      "source": [
        "# 검증 : 총 거래액 합계 확인\n",
        "\n",
        "sumsql = \"\"\"select sum(balance) as total\n",
        "from account_info\"\"\"\n",
        "\n",
        "\n",
        "sumTargetsql = \"\"\"select sum(total_balance) as target_total\n",
        "from customer_finance_summary\n",
        "where date(time_tag) = curdate()\"\"\"\n",
        "\n",
        "try:\n",
        "    sumData = pd.read_sql_query( sql = sumsql, con = myengine )\n",
        "    sumTargetData = pd.read_sql_query( sql = sumTargetsql, con = myengine )\n",
        "    sumOriginValue = sumData['total'].iloc[0]\n",
        "    sumTargetValue = sumTargetData['target_total'].iloc[0]\n",
        "\n",
        "    if  sumOriginValue == sumTargetValue:\n",
        "        print(\"총 거래액 매칭 확인\")\n",
        "    else:\n",
        "        print(\"총 거래액 매칭 에러\")\n",
        "except Exception as e:\n",
        "    print(e)\n"
      ],
      "metadata": {
        "colab": {
          "base_uri": "https://localhost:8080/"
        },
        "id": "tfBFaLTBWYbI",
        "outputId": "e15044c3-7c03-4da8-f7c4-9bf2df92cbf6"
      },
      "execution_count": null,
      "outputs": [
        {
          "output_type": "stream",
          "name": "stdout",
          "text": [
            "총 거래액 매칭 에러\n"
          ]
        }
      ]
    },
    {
      "cell_type": "markdown",
      "source": [
        "### SQL 조인 후 불러오는 방식"
      ],
      "metadata": {
        "id": "hy7QuOvlXYaV"
      }
    },
    {
      "cell_type": "code",
      "source": [
        "# SQL\n",
        "# sel = \"\"\"SELECT A.customer_id,\n",
        "#         A.name,\n",
        "#         SUM(B.balance) AS total_balance,\n",
        "#         MAX(C.transaction_date) AS recent_transaction_date,\n",
        "#         SUM(C.amount) AS total_transaction_amount,\n",
        "#         SUM(D.loan_amount) AS total_loan_amount\n",
        "#         FROM customer_info A\n",
        "#         LEFT JOIN account_info B ON A.customer_id = B.customer_id\n",
        "#         LEFT JOIN transaction_info C ON B.account_id = C.account_id\n",
        "#         LEFT JOIN loan_info D ON A.customer_id = D.customer_id\n",
        "#         GROUP BY A.customer_id, A.name\"\"\"\n"
      ],
      "metadata": {
        "id": "7TDYDcMvtb69"
      },
      "execution_count": null,
      "outputs": []
    },
    {
      "cell_type": "code",
      "source": [
        "# AnalysisDf = pd.read_sql_query( sql = sel, con = myengine )\n"
      ],
      "metadata": {
        "id": "T8fDiXH6tJAv"
      },
      "execution_count": null,
      "outputs": []
    },
    {
      "cell_type": "code",
      "source": [
        "#데이터 오류 정정\n",
        "# AnalysisDf['recent_transaction_date'] = AnalysisDf['recent_transaction_date'].str.replace('010', '10')\n",
        "# AnalysisDf['recent_transaction_date'] = AnalysisDf['recent_transaction_date'].str.replace('011', '11')\n",
        "# AnalysisDf['recent_transaction_date'] = AnalysisDf['recent_transaction_date'].str.replace('012', '12')"
      ],
      "metadata": {
        "id": "bWP9WsGLvie3"
      },
      "execution_count": null,
      "outputs": []
    },
    {
      "cell_type": "code",
      "source": [
        "# from datetime import datetime\n",
        "# from zoneinfo import ZoneInfo\n",
        "\n",
        "# #dt_korea = datetime.now(ZoneInfo(\"Asia/Seoul\"))\n",
        "# dt_korea = datetime.now()\n",
        "# time_tag = dt_korea.strftime('%Y-%m-%d %H:%M:%S')\n",
        "# time_tag"
      ],
      "metadata": {
        "id": "3FYJDFnJ0LXL"
      },
      "execution_count": null,
      "outputs": []
    },
    {
      "cell_type": "code",
      "source": [
        "# try:\n",
        "#     tableName = \"customer_finance_summary\"\n",
        "#     AnalysisDf.to_sql(name = tableName, con=myengine, index=False, if_exists=\"append\")\n",
        "#     print(\"DB저장 완료\")\n",
        "# except Exception as e:\n",
        "#     print(e)"
      ],
      "metadata": {
        "id": "umh9nag7v_tU"
      },
      "execution_count": null,
      "outputs": []
    }
  ]
}